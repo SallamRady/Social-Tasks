{
  "metadata": {
    "language_info": {
      "codemirror_mode": {
        "name": "python",
        "version": 3
      },
      "file_extension": ".py",
      "mimetype": "text/x-python",
      "name": "python",
      "nbconvert_exporter": "python",
      "pygments_lexer": "ipython3",
      "version": "3.8"
    },
    "kernelspec": {
      "name": "python",
      "display_name": "Pyolite",
      "language": "python"
    }
  },
  "nbformat_minor": 4,
  "nbformat": 4,
  "cells": [
    {
      "cell_type": "code",
      "source": "# Sallam Rady Ramadan osman - section 2 - IS\n# to print message use print(---message here---)\nmyName = 'Sallam Rady'\nmyAge = 22\n\nprint('Hi,',myName)\nprint('your age is:',myAge)",
      "metadata": {
        "trusted": true
      },
      "execution_count": 4,
      "outputs": [
        {
          "name": "stdout",
          "text": "Hi, Sallam Rady\nyour age is: 22\n",
          "output_type": "stream"
        }
      ]
    },
    {
      "cell_type": "code",
      "source": "myName #we can call variable",
      "metadata": {
        "trusted": true
      },
      "execution_count": 5,
      "outputs": [
        {
          "execution_count": 5,
          "output_type": "execute_result",
          "data": {
            "text/plain": "'Sallam Rady'"
          },
          "metadata": {}
        }
      ]
    },
    {
      "cell_type": "code",
      "source": "#conditions....if statment\nif myAge < 18 :\n    print(\"you arn't allow to apply in this job\")\nelif myAge >= 18 and myAge <= 22 :\n    print(\"you arn't allow to apply in this job But you can have Intership\")\nelse :\n    print(\"Welcome, you can apply\")",
      "metadata": {
        "trusted": true
      },
      "execution_count": 12,
      "outputs": [
        {
          "name": "stdout",
          "text": "you arn't allow to apply in this job But you can have Intership\n",
          "output_type": "stream"
        }
      ]
    },
    {
      "cell_type": "code",
      "source": "# ordered list\nfriends = ['Sallam','Ibrahim','Ezzat','Gad','Meky','Fathy']\n# note we can use indexer\nprint(friends[0])\nprint(friends[1])\nprint(friends[-1])\n#we can select range\nprint(friends[0:3])\nprint(friends[:2])\nprint(friends[2:])\n#we can add item to list via .append()\nfriends.append('Adnan')\nprint(friends[-1])\n#we can add in spacific index/position using insert()\nfriends.insert(2, 'Hossam')\nprint('list:',friends)\n#delete via del key word\ndel friends[2]\nprint('list:',friends)",
      "metadata": {
        "trusted": true
      },
      "execution_count": 16,
      "outputs": [
        {
          "name": "stdout",
          "text": "Sallam\nIbrahim\nFathy\n['Sallam', 'Ibrahim', 'Ezzat']\n['Sallam', 'Ibrahim']\n['Ezzat', 'Gad', 'Meky', 'Fathy']\nAdnan\nlist: ['Sallam', 'Ibrahim', 'Hossam', 'Ezzat', 'Gad', 'Meky', 'Fathy', 'Adnan']\nlist: ['Sallam', 'Ibrahim', 'Ezzat', 'Gad', 'Meky', 'Fathy', 'Adnan']\n",
          "output_type": "stream"
        }
      ]
    },
    {
      "cell_type": "code",
      "source": "#loops...Syntax\n#for itemName in collection:\n#    loop body.\nfor friend_name in friends:\n    print('Hello ' + friend_name + '!')\n\n# to get length of string using len()\nprint('Now we will print name for a friend whose name length more than 4')\nfor friend_name in friends:\n    if len(friend_name) > 4:\n        print(friend_name+' name length more than 4')\n\n#Nested loops\nfor friend_name in friends:\n    print(friend_name)\n    for item in range(1,3):\n        print(item)",
      "metadata": {
        "trusted": true
      },
      "execution_count": 19,
      "outputs": [
        {
          "name": "stdout",
          "text": "Hello Sallam!\nHello Ibrahim!\nHello Ezzat!\nHello Gad!\nHello Meky!\nHello Fathy!\nHello Adnan!\nNow we will print name for a friend whose name length more than 4\nSallam name length more than 4\nIbrahim name length more than 4\nEzzat name length more than 4\nFathy name length more than 4\nAdnan name length more than 4\nSallam\n1\n2\nIbrahim\n1\n2\nEzzat\n1\n2\nGad\n1\n2\nMeky\n1\n2\nFathy\n1\n2\nAdnan\n1\n2\n",
          "output_type": "stream"
        }
      ]
    },
    {
      "cell_type": "code",
      "source": "#tuble\nmyLanguages = ('Arabic', 'English')\n#we can use indexer\nprint(myLanguages[0])",
      "metadata": {
        "trusted": true
      },
      "execution_count": 23,
      "outputs": [
        {
          "name": "stdout",
          "text": "Arabic\n",
          "output_type": "stream"
        }
      ]
    },
    {
      "cell_type": "code",
      "source": "#tuple is immutable that mean you can't add ,remove from it\nmyLanguages.append('French')",
      "metadata": {
        "trusted": true
      },
      "execution_count": 24,
      "outputs": [
        {
          "ename": "<class 'AttributeError'>",
          "evalue": "'tuple' object has no attribute 'append'",
          "traceback": [
            "\u001b[0;31m---------------------------------------------------------------------------\u001b[0m",
            "\u001b[0;31mAttributeError\u001b[0m                            Traceback (most recent call last)",
            "Input \u001b[0;32mIn [24]\u001b[0m, in \u001b[0;36m<cell line: 2>\u001b[0;34m()\u001b[0m\n\u001b[1;32m      1\u001b[0m \u001b[38;5;66;03m#tuple is immutable that mean you can't add ,remove from it\u001b[39;00m\n\u001b[0;32m----> 2\u001b[0m \u001b[43mmyLanguages\u001b[49m\u001b[38;5;241;43m.\u001b[39;49m\u001b[43mappend\u001b[49m(\u001b[38;5;124m'\u001b[39m\u001b[38;5;124mFrench\u001b[39m\u001b[38;5;124m'\u001b[39m)\n",
            "\u001b[0;31mAttributeError\u001b[0m: 'tuple' object has no attribute 'append'"
          ],
          "output_type": "error"
        }
      ]
    },
    {
      "cell_type": "code",
      "source": "#tuple is immutable that mean you can't add ,remove from it\ndel myLanguages[1]",
      "metadata": {
        "trusted": true
      },
      "execution_count": 25,
      "outputs": [
        {
          "ename": "<class 'TypeError'>",
          "evalue": "'tuple' object doesn't support item deletion",
          "traceback": [
            "\u001b[0;31m---------------------------------------------------------------------------\u001b[0m",
            "\u001b[0;31mTypeError\u001b[0m                                 Traceback (most recent call last)",
            "Input \u001b[0;32mIn [25]\u001b[0m, in \u001b[0;36m<cell line: 2>\u001b[0;34m()\u001b[0m\n\u001b[1;32m      1\u001b[0m \u001b[38;5;66;03m#tuple is immutable that mean you can't add ,remove from it\u001b[39;00m\n\u001b[0;32m----> 2\u001b[0m \u001b[38;5;28;01mdel\u001b[39;00m myLanguages[\u001b[38;5;241m1\u001b[39m]\n",
            "\u001b[0;31mTypeError\u001b[0m: 'tuple' object doesn't support item deletion"
          ],
          "output_type": "error"
        }
      ]
    },
    {
      "cell_type": "code",
      "source": "#tuple is immutable that mean you can't add ,remove and change from it\nmyLanguages[1] = 'French'",
      "metadata": {
        "trusted": true
      },
      "execution_count": 26,
      "outputs": [
        {
          "ename": "<class 'TypeError'>",
          "evalue": "'tuple' object does not support item assignment",
          "traceback": [
            "\u001b[0;31m---------------------------------------------------------------------------\u001b[0m",
            "\u001b[0;31mTypeError\u001b[0m                                 Traceback (most recent call last)",
            "Input \u001b[0;32mIn [26]\u001b[0m, in \u001b[0;36m<cell line: 2>\u001b[0;34m()\u001b[0m\n\u001b[1;32m      1\u001b[0m \u001b[38;5;66;03m#tuple is immutable that mean you can't add ,remove and change from it\u001b[39;00m\n\u001b[0;32m----> 2\u001b[0m myLanguages[\u001b[38;5;241m1\u001b[39m] \u001b[38;5;241m=\u001b[39m \u001b[38;5;124m'\u001b[39m\u001b[38;5;124mFrench\u001b[39m\u001b[38;5;124m'\u001b[39m\n",
            "\u001b[0;31mTypeError\u001b[0m: 'tuple' object does not support item assignment"
          ],
          "output_type": "error"
        }
      ]
    },
    {
      "cell_type": "code",
      "source": "#Tuples' immutability makes them useful for unpacking\nstudent_grade = ('Alice', 'Spanish', 'A-')\nstudent_name, subject, grade = student_grade\n\nprint(student_name)\nprint(subject)\nprint(grade)",
      "metadata": {
        "trusted": true
      },
      "execution_count": 27,
      "outputs": [
        {
          "name": "stdout",
          "text": "Alice\nSpanish\nA-\n",
          "output_type": "stream"
        }
      ]
    },
    {
      "cell_type": "code",
      "source": "student_grades = [\n    ('Alice', 'Spanish', 'A'),\n    ('Bob', 'French', 'C'),\n    ('Carol', 'Italian', 'B+'),\n    ('Dave', 'Italian', 'A-'),\n]\n\nfor student_name, subject, grade in student_grades:\n    if grade.startswith('A'):\n        print('Congratulations', student_name,\n              'on getting an', grade,\n              'in', subject)",
      "metadata": {
        "trusted": true
      },
      "execution_count": 28,
      "outputs": [
        {
          "name": "stdout",
          "text": "Congratulations Alice on getting an A in Spanish\nCongratulations Dave on getting an A- in Italian\n",
          "output_type": "stream"
        }
      ]
    },
    {
      "cell_type": "code",
      "source": "#unordered list`Dictionary` key:value\nforeign_languages = {\n    'Alice': 'Spanish',\n    'Bob': 'French',\n    'Carol': 'Italian',\n    'Dave': 'Italian',\n}",
      "metadata": {
        "trusted": true
      },
      "execution_count": 34,
      "outputs": []
    },
    {
      "cell_type": "code",
      "source": "foreign_languages['Carol']#access element using key",
      "metadata": {
        "trusted": true
      },
      "execution_count": 30,
      "outputs": [
        {
          "execution_count": 30,
          "output_type": "execute_result",
          "data": {
            "text/plain": "'Italian'"
          },
          "metadata": {}
        }
      ]
    },
    {
      "cell_type": "code",
      "source": "foreign_languages['Zeke']#key not found so you will get error",
      "metadata": {
        "trusted": true
      },
      "execution_count": 31,
      "outputs": [
        {
          "ename": "<class 'KeyError'>",
          "evalue": "'Zeke'",
          "traceback": [
            "\u001b[0;31m---------------------------------------------------------------------------\u001b[0m",
            "\u001b[0;31mKeyError\u001b[0m                                  Traceback (most recent call last)",
            "Input \u001b[0;32mIn [31]\u001b[0m, in \u001b[0;36m<cell line: 1>\u001b[0;34m()\u001b[0m\n\u001b[0;32m----> 1\u001b[0m \u001b[43mforeign_languages\u001b[49m\u001b[43m[\u001b[49m\u001b[38;5;124;43m'\u001b[39;49m\u001b[38;5;124;43mZeke\u001b[39;49m\u001b[38;5;124;43m'\u001b[39;49m\u001b[43m]\u001b[49m\n",
            "\u001b[0;31mKeyError\u001b[0m: 'Zeke'"
          ],
          "output_type": "error"
        }
      ]
    },
    {
      "cell_type": "code",
      "source": "# to chick if item in list use in keyword look and learn\nprint('Zeke' in foreign_languages)\nif 'Zeke' in foreign_languages :\n    print('founded')\nelse:\n    print('not founded')",
      "metadata": {
        "trusted": true
      },
      "execution_count": 33,
      "outputs": [
        {
          "name": "stdout",
          "text": "False\nnot founded\n",
          "output_type": "stream"
        }
      ]
    },
    {
      "cell_type": "code",
      "source": "#We can add, delete, and change entries in a dictionary\nforeign_languages['Esther'] = 'French'\nprint(foreign_languages)\ndel foreign_languages['Bob']\nprint(foreign_languages)\nforeign_languages['Esther'] = 'Italian'\nprint(foreign_languages)",
      "metadata": {
        "trusted": true
      },
      "execution_count": 35,
      "outputs": [
        {
          "name": "stdout",
          "text": "{'Alice': 'Spanish', 'Bob': 'French', 'Carol': 'Italian', 'Dave': 'Italian', 'Esther': 'French'}\n{'Alice': 'Spanish', 'Carol': 'Italian', 'Dave': 'Italian', 'Esther': 'French'}\n{'Alice': 'Spanish', 'Carol': 'Italian', 'Dave': 'Italian', 'Esther': 'Italian'}\n",
          "output_type": "stream"
        }
      ]
    },
    {
      "cell_type": "code",
      "source": "for key, value in foreign_languages.items():\n    print(key, 'is taking', value)",
      "metadata": {
        "trusted": true
      },
      "execution_count": 36,
      "outputs": [
        {
          "name": "stdout",
          "text": "Alice is taking Spanish\nCarol is taking Italian\nDave is taking Italian\nEsther is taking Italian\n",
          "output_type": "stream"
        }
      ]
    },
    {
      "cell_type": "code",
      "source": "#we can deal with Dictionaries as records look and learn\nstudent_grade = ('Alice', 'Spanish', 'A')\nstudent_name, subject, grade = student_grades[0]\nprint(student_name, 'got a grade of', grade, 'in', subject)\nrecord = {\n    'name': 'Alice',\n    'subject': 'Spanish',\n    'grade': 'A',\n}\nprint(record['name'],\n      'got a grade of', record['grade'],\n      'in', record['subject'])",
      "metadata": {
        "trusted": true
      },
      "execution_count": 38,
      "outputs": [
        {
          "name": "stdout",
          "text": "Alice got a grade of A in Spanish\nAlice got a grade of A in Spanish\n",
          "output_type": "stream"
        }
      ]
    },
    {
      "cell_type": "code",
      "source": "#List of tuples\nstudent_grades = [\n    ('Alice', 'Spanish', 'A'),\n    ('Bob', 'French', 'C'),\n    ('Carol', 'Italian', 'B+'),\n    ('Dave', 'Italian', 'A-'),\n]\nprint(student_grades[1])\nprint(student_grades[1][2])",
      "metadata": {
        "trusted": true
      },
      "execution_count": 40,
      "outputs": [
        {
          "name": "stdout",
          "text": "('Bob', 'French', 'C')\nC\n",
          "output_type": "stream"
        }
      ]
    },
    {
      "cell_type": "code",
      "source": "#List of dictionaries\nstudent_grade_records = []\nfor student_name, subject, grade in student_grades:\n    record = {\n        'name': student_name,\n        'subject': subject,\n        'grade': grade,\n    }\n    student_grade_records.append(record)\n    \nprint(student_grade_records)\nprint(student_grade_records[1])\nprint(student_grade_records[1]['grade'])",
      "metadata": {
        "trusted": true
      },
      "execution_count": 41,
      "outputs": [
        {
          "execution_count": 41,
          "output_type": "execute_result",
          "data": {
            "text/plain": "[{'name': 'Alice', 'subject': 'Spanish', 'grade': 'A'},\n {'name': 'Bob', 'subject': 'French', 'grade': 'C'},\n {'name': 'Carol', 'subject': 'Italian', 'grade': 'B+'},\n {'name': 'Dave', 'subject': 'Italian', 'grade': 'A-'}]"
          },
          "metadata": {}
        }
      ]
    },
    {
      "cell_type": "code",
      "source": "#Dictionary of dictionaries\nforeign_language_grades = {}\nfor student_name, subject, grade in student_grades:\n    record = {\n        'subject': subject,\n        'grade': grade,\n    }\n    foreign_language_grades[student_name] = record\n    \nprint(foreign_language_grades)\nprint(foreign_language_grades['Alice'])\nprint(foreign_language_grades['Alice']['subject'])",
      "metadata": {
        "trusted": true
      },
      "execution_count": 42,
      "outputs": [
        {
          "name": "stdout",
          "text": "{'Alice': {'subject': 'Spanish', 'grade': 'A'}, 'Bob': {'subject': 'French', 'grade': 'C'}, 'Carol': {'subject': 'Italian', 'grade': 'B+'}, 'Dave': {'subject': 'Italian', 'grade': 'A-'}}\n{'subject': 'Spanish', 'grade': 'A'}\nSpanish\n",
          "output_type": "stream"
        }
      ]
    },
    {
      "cell_type": "code",
      "source": "# My practice for pravious - frquencey arr\narr = [1,2,3,4,1,2,3,6,7,8,5,3,1];\nfrq = {}\nfor num in arr:\n    if num in frq:\n        frq[num] += 1\n    else:\n        frq[num] = 1\n\nfor key, value in frq.items():\n    print('number :',key, \" it's frq \", value)",
      "metadata": {
        "trusted": true
      },
      "execution_count": 54,
      "outputs": [
        {
          "name": "stdout",
          "text": "1 is taking 3\n2 is taking 2\n3 is taking 3\n4 is taking 1\n6 is taking 1\n7 is taking 1\n8 is taking 1\n5 is taking 1\n",
          "output_type": "stream"
        }
      ]
    },
    {
      "cell_type": "code",
      "source": "",
      "metadata": {},
      "execution_count": null,
      "outputs": []
    }
  ]
}